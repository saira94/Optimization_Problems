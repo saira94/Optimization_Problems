{
  "nbformat": 4,
  "nbformat_minor": 0,
  "metadata": {
    "colab": {
      "provenance": []
    },
    "kernelspec": {
      "name": "python3",
      "display_name": "Python 3"
    },
    "language_info": {
      "name": "python"
    }
  },
  "cells": [
    {
      "cell_type": "markdown",
      "source": [
        "# Design Optimization of a Welded Beam\n",
        "This example shows how to examine the tradeoff between the strength and cost of a beam.\n",
        "\n"
      ],
      "metadata": {
        "id": "tbFsLex4WV4l"
      }
    },
    {
      "cell_type": "markdown",
      "source": [
        "**Import Necessary Libraries**"
      ],
      "metadata": {
        "id": "9uy8CXvH0HAV"
      }
    },
    {
      "cell_type": "code",
      "source": [
        "#importing numpy\n",
        "import numpy as np\n",
        "import random\n",
        "import math\n",
        "import matplotlib.pyplot as plt\n",
        "from scipy.stats import norm\n",
        "load = 6000;\n",
        "g1_counter, g2_counter, g3_counter, g4_counter, fx_counter  = 0, 0, 0, 0, 0"
      ],
      "metadata": {
        "id": "YruMcQYZdplx"
      },
      "execution_count": 39,
      "outputs": []
    },
    {
      "cell_type": "markdown",
      "source": [
        "**Define f(x) function**"
      ],
      "metadata": {
        "id": "IHw2ocMD0VN8"
      }
    },
    {
      "cell_type": "code",
      "source": [
        "def minimize_function(x):\n",
        "    \"\"\"\n",
        "    Objective function -- given function\n",
        "    \"\"\"\n",
        "    [x1, x2, x3, x4] = x\n",
        "    global fx_counter\n",
        "    fx_counter = fx_counter + 1\n",
        "    return (1.10471*(x1)**2*(x2) + 0.04811*(x3)*(x4)*(14.0 + x2))"
      ],
      "metadata": {
        "id": "-9_chlMdORrt"
      },
      "execution_count": 40,
      "outputs": []
    },
    {
      "cell_type": "markdown",
      "source": [
        "**Define g1(x) function**"
      ],
      "metadata": {
        "id": "TiWc9hHi0cLb"
      }
    },
    {
      "cell_type": "code",
      "source": [
        "#g1(x) = 13600 −τ(x) ≥0, In summary, the shear stress on the welds has the constraint τ(x) <= 13600\n",
        "\n",
        "def g1(x):\n",
        "  global g1_counter\n",
        "  g1_counter = g1_counter + 1\n",
        "  return 13600 - tau(x) \n",
        "\n",
        "def tau(x):\n",
        "\treturn math.sqrt((dtau(x) ** 2 + d2tau(x) ** 2)+ (x[1] * dtau(x) * d2tau(x))/math.sqrt(0.25*(x[1] ** 2 +(x[0] + x[2])**2)))\n",
        "\n",
        "def dtau(x):\n",
        "\treturn 6000/ (math.sqrt(2) * x[0] * x[1])\n",
        "\n",
        "def d2tau(x):\n",
        "\treturn (6000*(14 + 0.5 * x[1]) * math.sqrt(0.25 * (x[1]**2 + (x[0] + x[2]) ** 2))) / ( 2 * (0.707 * x[0] * x[1] * ((x[1] ** 2/ 12) + 0.25 * (x[0] + x[2]) ** 2)))"
      ],
      "metadata": {
        "id": "mPXMokE1OUjH"
      },
      "execution_count": 41,
      "outputs": []
    },
    {
      "cell_type": "markdown",
      "source": [
        "**Defind g2(x) function**"
      ],
      "metadata": {
        "id": "zvfmoBAT0gxZ"
      }
    },
    {
      "cell_type": "code",
      "source": [
        "#g2(x) = 30000 −σ(x) ≥0, The normal stress σ(x) on the welds cannot exceed 30,000 psi. \n",
        "def g2(x):\n",
        "  global g2_counter \n",
        "  g2_counter = g2_counter + 1\n",
        "  constant_value = 504000 \n",
        "  denominator = ((x[2]**2) * x[3])\n",
        "  sigma =  constant_value / denominator\n",
        "  \n",
        "  return 30000 - sigma"
      ],
      "metadata": {
        "id": "L77Amoi2Ob_W"
      },
      "execution_count": 42,
      "outputs": []
    },
    {
      "cell_type": "markdown",
      "source": [
        "**Define g3(x) function**"
      ],
      "metadata": {
        "id": "duinfVOZ0lUT"
      }
    },
    {
      "cell_type": "code",
      "source": [
        "# g3(x) The weld thickness cannot exceed the beam width. In symbols, x4 - x1 >= 0\n",
        "def g3(x):\n",
        "  global g3_counter \n",
        "  g3_counter = g3_counter + 1\n",
        "  return x[3] - x[0]"
      ],
      "metadata": {
        "id": "jbkLsD7gOiff"
      },
      "execution_count": 43,
      "outputs": []
    },
    {
      "cell_type": "markdown",
      "source": [
        "**Define g4(x) function**"
      ],
      "metadata": {
        "id": "hqiRE7v_0q3i"
      }
    },
    {
      "cell_type": "code",
      "source": [
        "#g4(x) = P(x) − 6000 ≥0; The buckling load capacity in the vertical direction must exceed the applied load of 6,000 lbs\n",
        "def g4(x):\n",
        "  global g4_counter \n",
        "  g4_counter = g4_counter + 1\n",
        "  \n",
        "  constant_value = 64746.022;\n",
        "  a = 1- (0.0282346 * x[2]);\n",
        "  b = x[2] * (x[3]**3);\n",
        "  buckling_load = constant_value * a * b \n",
        "  return buckling_load"
      ],
      "metadata": {
        "id": "8UjcH5kYOyRq"
      },
      "execution_count": 44,
      "outputs": []
    },
    {
      "cell_type": "markdown",
      "source": [
        "**Checking Bounds**"
      ],
      "metadata": {
        "id": "AKfHASlc03V9"
      }
    },
    {
      "cell_type": "code",
      "execution_count": 45,
      "metadata": {
        "id": "bLB3K5wIWNF8"
      },
      "outputs": [],
      "source": [
        "#x1,x2 ∈[0.125,5] ⊂R \n",
        "def check_x1_x2_bound():\n",
        "  if ((x[0] >= 0.125 and  x[0] <= 5) and (x[1] >= 0.125 and x[1] <= 5)):\n",
        "    print(\"Constrains met\")\n",
        "  else:\n",
        "    print(\"constrains not met\")\n",
        "\n",
        "\n",
        "#x3,x4 ∈[0.1,10] ⊂R.\n",
        "def check_x3_x4_bound():\n",
        "\n",
        "  if ((x[2] >= 0.1 and x[2] <= 10) and (x[3] >= 0.1 and x [3] <= 10)):\n",
        "    print(\"Constrains met\")\n",
        "  else:\n",
        "    print(\"Constrain not met\")"
      ]
    },
    {
      "cell_type": "markdown",
      "source": [
        " **For validating your function implementations, you must use the following code in your\n",
        "notebook and ensure that your code is producing the same outputs (accurate up to 3 decimal\n",
        "places)**"
      ],
      "metadata": {
        "id": "HNjlFUj3ioYR"
      }
    },
    {
      "cell_type": "code",
      "source": [
        "x = np.array([1.05, 3.15, 4.43, 7.87])\n",
        "print(\"Objective function output: \", minimize_function(x))\n",
        "print(\"Firt constraint function output: \", g1(x))\n",
        "print(\"Second constraint function output: \", g2(x))\n",
        "print(\"Third constraint function output: \", g3(x))\n",
        "print(\"Fourth constraint function output: \", g4(x))"
      ],
      "metadata": {
        "colab": {
          "base_uri": "https://localhost:8080/"
        },
        "id": "uw-hMbVZil6I",
        "outputId": "6db380cf-e4b5-443d-88a3-59b238fe614b"
      },
      "execution_count": 46,
      "outputs": [
        {
          "output_type": "stream",
          "name": "stdout",
          "text": [
            "Objective function output:  32.6024179859\n",
            "Firt constraint function output:  5308.848564674312\n",
            "Second constraint function output:  26736.764990548952\n",
            "Third constraint function output:  6.82\n",
            "Fourth constraint function output:  122323448.61430934\n"
          ]
        }
      ]
    },
    {
      "cell_type": "code",
      "source": [
        "#generate data points\n",
        "def points_to_evaluate(max_iter, lower_bound,upper_bound):\n",
        "  x_arr = np.random.uniform(low = lower_bound, high = upper_bound, size = (max_iter,4))\n",
        "  return x_arr"
      ],
      "metadata": {
        "id": "T1YBkxHRb-HB"
      },
      "execution_count": 47,
      "outputs": []
    },
    {
      "cell_type": "code",
      "source": [
        "def deathpenalty(minimize_function, penalty, x):\n",
        "\n",
        "  if (g1(x) >= 0 and g2(x) >= 0 and g3(x) >= 0 and g4(x) >= 0):\n",
        "    return minimize_function(x)\n",
        "  else:\n",
        "    return penalty"
      ],
      "metadata": {
        "id": "VN8JWxjrXW0U"
      },
      "execution_count": 48,
      "outputs": []
    },
    {
      "cell_type": "code",
      "source": [
        "def random_search(function, max_iter, lower_bound, \n",
        "                  upper_bound, penalty):\n",
        "    samples = points_to_evaluate(max_iter, lower_bound, upper_bound)\n",
        "    results = np.array([deathpenalty(function, penalty, point) \n",
        "               for point in samples])\n",
        "    best_ind = np.argmin(results)\n",
        "    return samples[best_ind], results[best_ind]"
      ],
      "metadata": {
        "id": "1QkBTtbCyhmT"
      },
      "execution_count": 49,
      "outputs": []
    },
    {
      "cell_type": "code",
      "source": [
        "# define hyper-paramters\n",
        "penalty = 200\n",
        "number_of_samples = 1000\n",
        "lower_bound = np.array([0.125,0.125,0.1,0.1])\n",
        "upper_bound = np.array([5,5,10,10])\n",
        "res = random_search(minimize_function, number_of_samples,\n",
        "                    lower_bound, upper_bound, penalty)\n"
      ],
      "metadata": {
        "id": "FFPW5hRZ1ZCZ"
      },
      "execution_count": 50,
      "outputs": []
    },
    {
      "cell_type": "code",
      "source": [
        "print(\"The best solution is:{} with the function value of  {:.2f}\".format(res[0], res[1]))"
      ],
      "metadata": {
        "id": "ylx3G0bG1bI0",
        "colab": {
          "base_uri": "https://localhost:8080/"
        },
        "outputId": "c1937aab-f31e-40d0-918c-67333876c571"
      },
      "execution_count": 51,
      "outputs": [
        {
          "output_type": "stream",
          "name": "stdout",
          "text": [
            "The best solution is:[0.59707299 1.98828657 8.72490433 1.28707532] with the function value of  9.42\n"
          ]
        }
      ]
    },
    {
      "cell_type": "code",
      "source": [
        "n_repeats = 21\n",
        "\n",
        "# run random search and pick the best value\n",
        "res_random = [random_search(minimize_function, number_of_samples,\n",
        "                  lower_bound, upper_bound, penalty)[-1]\n",
        "            for i in range(n_repeats)]"
      ],
      "metadata": {
        "id": "LSeD9EP71Pks"
      },
      "execution_count": 52,
      "outputs": []
    },
    {
      "cell_type": "code",
      "source": [
        "plt.boxplot([res_random])\n",
        "plt.xticks([1], ['Random Search'])\n",
        "plt.ylabel(\"Best Objective Value\")"
      ],
      "metadata": {
        "colab": {
          "base_uri": "https://localhost:8080/",
          "height": 282
        },
        "id": "XuffRKdGNmq6",
        "outputId": "d72772ea-35c8-4c9b-a2eb-0510e0ce4734"
      },
      "execution_count": 53,
      "outputs": [
        {
          "output_type": "execute_result",
          "data": {
            "text/plain": [
              "Text(0, 0.5, 'Best Objective Value')"
            ]
          },
          "metadata": {},
          "execution_count": 53
        },
        {
          "output_type": "display_data",
          "data": {
            "text/plain": [
              "<Figure size 432x288 with 1 Axes>"
            ],
            "image/png": "[encoded data removed]"
          },
          "metadata": {
            "needs_background": "light"
          }
        }
      ]
    },
    {
      "cell_type": "markdown",
      "source": [
        "# Simulated Annealing with Death Penalty"
      ],
      "metadata": {
        "id": "FBSrytIC5ei2"
      }
    },
    {
      "cell_type": "code",
      "source": [
        "def bound_check(low, high, x):\n",
        "  for i in range(len(x)):\n",
        "    if(x[i] < low[i] or x[i] > high[i]):\n",
        "      return False\n",
        "  return True"
      ],
      "metadata": {
        "id": "OAq4EcTZEKgP"
      },
      "execution_count": 54,
      "outputs": []
    },
    {
      "cell_type": "code",
      "source": [
        "from numpy import exp\n",
        "from numpy.random import randn\n",
        "from numpy.random import rand\n",
        "from numpy.random import seed\n",
        "from matplotlib import pyplot\n",
        " \n",
        "\n",
        "# define simulated annealing algo\n",
        "def simulated_annealing(minimize_function, bounds, iter, step_size, temp, penalty):\n",
        "\t\n",
        "\t\n",
        "\tbest = np.random.uniform(low = lower_bound, high = upper_bound, size = (1,4))[0]\n",
        "\t\n",
        "\t# evaluate the initial point\n",
        "\tbest_eval = deathpenalty(minimize_function, penalty, best)\n",
        "\tcurr, curr_eval = best, best_eval\n",
        "\tscores = list()\n",
        "\t# run the algorithm\n",
        "\tfor i in range(iter):\n",
        "\t\t\n",
        "\t\tflag = False\n",
        "\t\twhile (not flag):\n",
        "\t\t\tcandidate = curr + randn(len(bounds)) * step_size\n",
        "\t\t\tflag = bound_check(lower_bound, upper_bound, candidate)\n",
        "\t\t# evaluate candidate point\n",
        "\t\tcandidate_eval = deathpenalty(minimize_function, penalty, candidate)\n",
        "\t\t# check for new best solution\n",
        "\t\tif candidate_eval < best_eval:\n",
        "\t\t\t# new best point\n",
        "\t\t\tbest, best_eval = candidate, candidate_eval\n",
        "\t\t\t# append scores\n",
        "\t\t\tscores.append(best_eval)\n",
        "\t\t\t\n",
        "\t\t\t# print('>%d f(%s) = %.5f' % (i, best, best_eval))\n",
        "\t\t# difference between candidate and current point evaluation\n",
        "\t\tdiff = candidate_eval - curr_eval\n",
        "\t\t# calculate temperature for current epoch\n",
        "\t\tt = temp / float(i + 1)\n",
        "\t\t# calculate metropolis acceptance criterion (wiki)\n",
        "\t\tmetropolis = exp(-diff / t)\n",
        "\t\t# check if we should keep the new point\n",
        "\t\tif diff < 0 or rand() < metropolis:\n",
        "\t\t\t# store the new current point\n",
        "\t\t\tcurr, curr_eval = candidate, candidate_eval\n",
        "\treturn [best, best_eval, scores]\n",
        " \n",
        "\n",
        "seed(1)\n",
        "#x1,x2 ∈[0.125,5] ⊂R, and (6)\n",
        "#x3,x4 ∈[0.1,10] ⊂R.\n",
        "# bound\n",
        "bounds = [[0.125, 5],[0.125, 5],[0.1, 10],[0.1, 10]]\n",
        "\n",
        "iter = 1000\n",
        "step_size = 0.1\n",
        "# initial\n",
        "temp = 10\n",
        "\n",
        "# perform SA\n",
        "best, score, scores = simulated_annealing(minimize_function, bounds, iter, step_size, temp, penalty)\n",
        "# print('f(%s) = %f' % (best, score))\n",
        "# line plot of best scores\n",
        "pyplot.plot(scores, '.-')\n",
        "pyplot.xlabel('Improvement Number')\n",
        "pyplot.ylabel('f(x) Value')\n",
        "pyplot.show()"
      ],
      "metadata": {
        "id": "npEG8Ja25nJU",
        "colab": {
          "base_uri": "https://localhost:8080/",
          "height": 317
        },
        "outputId": "169c2fd8-f327-4b7a-ab73-7cf58720636e"
      },
      "execution_count": 55,
      "outputs": [
        {
          "output_type": "stream",
          "name": "stderr",
          "text": [
            "<ipython-input-55-6732df45dec9>:40: RuntimeWarning: overflow encountered in exp\n",
            "  metropolis = exp(-diff / t)\n"
          ]
        },
        {
          "output_type": "display_data",
          "data": {
            "text/plain": [
              "<Figure size 432x288 with 1 Axes>"
            ],
            "image/png": "[encoded data removed]"
          },
          "metadata": {
            "needs_background": "light"
          }
        }
      ]
    },
    {
      "cell_type": "code",
      "source": [
        "n_repeats = 21\n",
        "res_SA = []\n",
        "test = []\n",
        "for i in range(n_repeats):\n",
        "  x,y,z = simulated_annealing(minimize_function, bounds, iter, step_size, temp, penalty)\n",
        "  res_SA.append(y)\n",
        "  test.append(x)\n",
        "# # run random search and pick the best value\n",
        "# for i in range(21):\n",
        "#   print(test[i],res_SA[i])\n",
        "# print(len(res_SA))\n",
        "# print(res_SA)"
      ],
      "metadata": {
        "colab": {
          "base_uri": "https://localhost:8080/"
        },
        "id": "4v7Qeh0l4ffe",
        "outputId": "4c4eac4c-c10b-4741-ab38-0e2ef2b4ab96"
      },
      "execution_count": 56,
      "outputs": [
        {
          "output_type": "stream",
          "name": "stderr",
          "text": [
            "<ipython-input-55-6732df45dec9>:40: RuntimeWarning: overflow encountered in exp\n",
            "  metropolis = exp(-diff / t)\n"
          ]
        }
      ]
    },
    {
      "cell_type": "code",
      "source": [
        "\n",
        "plt.boxplot([res_random, res_SA])\n",
        "plt.xticks([1,2], ['Random Search', 'Simulated Annealing'])\n",
        "plt.ylabel(\"Best Objective Value\")"
      ],
      "metadata": {
        "id": "wzxawh1b6d-Z",
        "colab": {
          "base_uri": "https://localhost:8080/",
          "height": 282
        },
        "outputId": "861f64ba-338a-4c27-a410-e81709b30d27"
      },
      "execution_count": 57,
      "outputs": [
        {
          "output_type": "execute_result",
          "data": {
            "text/plain": [
              "Text(0, 0.5, 'Best Objective Value')"
            ]
          },
          "metadata": {},
          "execution_count": 57
        },
        {
          "output_type": "display_data",
          "data": {
            "text/plain": [
              "<Figure size 432x288 with 1 Axes>"
            ],
            "image/png": "[encoded data removed]"
          },
          "metadata": {
            "needs_background": "light"
          }
        }
      ]
    },
    {
      "cell_type": "markdown",
      "source": [
        "From the Box plot, we can compare our results between Random Search with death Penalty and Simulated Annealing with death penalty. The box in a box plot shows you the interquartile range , meaning data falling between the first and third quartile\n",
        "\n",
        "As we can observe, simulated annealing gives us a better answer than random search. The median is lower. The median is the average value from a set of data and is shown by the line that divides the box into two parts.\n",
        "\n",
        "In the random search, we also see that getting an extreme value (outlier) is quite plausable since the data points are chosen randomly. \n",
        "\n",
        "Using static penalty will probably work better with SA than death penalty. I can probably do further experiment on this. "
      ],
      "metadata": {
        "id": "fuIaJxxO1kfY"
      }
    }
  ]
}